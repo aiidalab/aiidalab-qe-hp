{
 "cells": [
  {
   "cell_type": "code",
   "execution_count": null,
   "id": "8e894576",
   "metadata": {},
   "outputs": [
    {
     "data": {
      "application/vnd.jupyter.widget-view+json": {
       "model_id": "9881721ea8e943a88b8be39ea9183c7b",
       "version_major": 2,
       "version_minor": 0
      },
      "text/plain": []
     },
     "metadata": {},
     "output_type": "display_data"
    },
    {
     "name": "stderr",
     "output_type": "stream",
     "text": [
      "04/04/2024 09:56:19 AM <1884660> aiida.engine.processes.functions: [WARNING] function `structure_relabel_kinds` has invalid type hints: unsupported operand type(s) for |: 'type' and 'NoneType'\n"
     ]
    },
    {
     "data": {
      "application/vnd.jupyter.widget-view+json": {
       "model_id": "75610115d6a44443b91d887a29add08f",
       "version_major": 2,
       "version_minor": 0
      },
      "text/plain": [
       "Setting(children=(HBox(children=(Dropdown(description='Method:', options=('one-shot', 'self-consistent'), styl…"
      ]
     },
     "metadata": {},
     "output_type": "display_data"
    }
   ],
   "source": [
    "## Test"
   ]
  },
  {
   "cell_type": "code",
   "execution_count": null,
   "metadata": {},
   "outputs": [],
   "source": [
    "from aiida import load_profile, orm\n",
    "\n",
    "load_profile()\n",
    "\n",
    "from aiidalab_qe_hp.setting import Setting\n",
    "\n",
    "def LiCoO2():\n",
    "    a, b, c, d = 1.40803, 0.81293, 4.68453, 1.62585\n",
    "    cell = [[a, -b, c], [0.0, d, c], [-a, -b, c]]\n",
    "    sites = [\n",
    "        [\"Co\", \"Co\", (0, 0, 0)],\n",
    "        [\"O\", \"O\", (0, 0, 3.6608)],\n",
    "        [\"O\", \"O\", (0, 0, 10.392)],\n",
    "        [\"Li\", \"Li\", (0, 0, 7.0268)],\n",
    "    ]\n",
    "    structure = orm.StructureData(cell=cell)\n",
    "    for kind, name, position in sites:\n",
    "        structure.append_atom(position=position, symbols=kind, name=name)\n",
    "    return structure\n",
    "\n",
    "setting = Setting()\n",
    "setting.input_structure = LiCoO2()\n",
    "setting"
   ]
  }
 ],
 "metadata": {
  "kernelspec": {
   "display_name": "Python 3 (ipykernel)",
   "language": "python",
   "name": "python3"
  },
  "language_info": {
   "codemirror_mode": {
    "name": "ipython",
    "version": 3
   },
   "file_extension": ".py",
   "mimetype": "text/x-python",
   "name": "python",
   "nbconvert_exporter": "python",
   "pygments_lexer": "ipython3",
   "version": "3.9.13"
  }
 },
 "nbformat": 4,
 "nbformat_minor": 5
}
