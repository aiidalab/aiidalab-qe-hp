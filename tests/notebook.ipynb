{
 "cells": [
  {
   "cell_type": "code",
   "execution_count": null,
   "id": "8e894576",
   "metadata": {},
   "outputs": [],
   "source": [
    "## Test\n",
    "from aiida import load_profile, orm\n",
    "\n",
    "load_profile()"
   ]
  },
  {
   "cell_type": "code",
   "execution_count": null,
   "id": "062b06bc",
   "metadata": {},
   "outputs": [],
   "source": [
    "\n",
    "\n",
    "from aiidalab_qe_hp.setting import Setting\n",
    "\n",
    "def LiCoO2():\n",
    "    a, b, c, d = 1.40803, 0.81293, 4.68453, 1.62585\n",
    "    cell = [[a, -b, c], [0.0, d, c], [-a, -b, c]]\n",
    "    sites = [\n",
    "        [\"Co\", \"Co\", (0, 0, 0)],\n",
    "        [\"O\", \"O\", (0, 0, 3.6608)],\n",
    "        [\"O\", \"O\", (0, 0, 10.392)],\n",
    "        [\"Li\", \"Li\", (0, 0, 7.0268)],\n",
    "    ]\n",
    "    structure = orm.StructureData(cell=cell)\n",
    "    for kind, name, position in sites:\n",
    "        structure.append_atom(position=position, symbols=kind, name=name)\n",
    "    return structure\n",
    "\n",
    "setting = Setting()\n",
    "setting.input_structure = LiCoO2()\n",
    "setting"
   ]
  },
  {
   "cell_type": "code",
   "execution_count": null,
   "id": "bd463877",
   "metadata": {},
   "outputs": [],
   "source": [
    "# Result\n",
    "from aiida import load_profile, orm\n",
    "\n",
    "load_profile()\n",
    "from aiidalab_qe_hp.result import Result\n",
    "pk = 32184\n",
    "\n",
    "r = Result(node=orm.load_node(pk))\n",
    "r._update_view()\n",
    "r"
   ]
  },
  {
   "cell_type": "code",
   "execution_count": null,
   "id": "bb3cbf00",
   "metadata": {},
   "outputs": [],
   "source": [
    "r.children"
   ]
  },
  {
   "cell_type": "code",
   "execution_count": null,
   "id": "ed0251b8",
   "metadata": {},
   "outputs": [],
   "source": []
  }
 ],
 "metadata": {
  "kernelspec": {
   "display_name": "Python 3 (ipykernel)",
   "language": "python",
   "name": "python3"
  },
  "language_info": {
   "codemirror_mode": {
    "name": "ipython",
    "version": 3
   },
   "file_extension": ".py",
   "mimetype": "text/x-python",
   "name": "python",
   "nbconvert_exporter": "python",
   "pygments_lexer": "ipython3",
   "version": "3.9.13"
  }
 },
 "nbformat": 4,
 "nbformat_minor": 5
}
